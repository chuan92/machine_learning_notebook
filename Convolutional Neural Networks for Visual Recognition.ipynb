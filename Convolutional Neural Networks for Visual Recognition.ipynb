{
 "cells": [
  {
   "cell_type": "markdown",
   "metadata": {},
   "source": [
    "# Convolutional Neural Networks for Visual Recognition\n",
    "1. Validation sets for Hyperparameter tuning: \n",
    "    * **single validation split**: usually 50%-70% for train, the larger number of hypernparameters the bigger validation splits.\n",
    "    * **cross-validation**: safer when validation set is small but computationally expensive. \n",
    "    * In practice it is cleaner to **not use the validation data in the final classifier** and consider it to be burned on estimating the hyperparameters.\n",
    "    * **sklearn.cross_validation**: *KFold, ShuffleSplit, LeaveOneOut,* utilities to generate indices that can be used to generate dataset splits according to different cross validation strategies.\n"
   ]
  }
 ],
 "metadata": {
  "kernelspec": {
   "display_name": "Python 2",
   "language": "python",
   "name": "python2"
  },
  "language_info": {
   "codemirror_mode": {
    "name": "ipython",
    "version": 2
   },
   "file_extension": ".py",
   "mimetype": "text/x-python",
   "name": "python",
   "nbconvert_exporter": "python",
   "pygments_lexer": "ipython2",
   "version": "2.7.6"
  }
 },
 "nbformat": 4,
 "nbformat_minor": 0
}
